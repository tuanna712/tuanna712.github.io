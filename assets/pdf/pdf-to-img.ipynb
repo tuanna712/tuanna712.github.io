{
 "cells": [
  {
   "cell_type": "code",
   "execution_count": 2,
   "metadata": {},
   "outputs": [
    {
     "name": "stdout",
     "output_type": "stream",
     "text": [
      "Saved page 1 as SK-Imgs/page_1.png\n",
      "Saved page 2 as SK-Imgs/page_2.png\n",
      "Saved page 3 as SK-Imgs/page_3.png\n",
      "Saved page 4 as SK-Imgs/page_4.png\n",
      "Saved page 5 as SK-Imgs/page_5.png\n",
      "Saved page 6 as SK-Imgs/page_6.png\n",
      "Saved page 7 as SK-Imgs/page_7.png\n",
      "Saved page 8 as SK-Imgs/page_8.png\n",
      "Saved page 9 as SK-Imgs/page_9.png\n",
      "Saved page 10 as SK-Imgs/page_10.png\n",
      "Saved page 11 as SK-Imgs/page_11.png\n",
      "Saved page 12 as SK-Imgs/page_12.png\n",
      "Saved page 13 as SK-Imgs/page_13.png\n",
      "Saved page 14 as SK-Imgs/page_14.png\n",
      "Saved page 15 as SK-Imgs/page_15.png\n",
      "Saved page 16 as SK-Imgs/page_16.png\n",
      "Saved page 17 as SK-Imgs/page_17.png\n",
      "Saved page 18 as SK-Imgs/page_18.png\n",
      "Saved page 19 as SK-Imgs/page_19.png\n",
      "Saved page 20 as SK-Imgs/page_20.png\n",
      "Saved page 21 as SK-Imgs/page_21.png\n",
      "Saved page 22 as SK-Imgs/page_22.png\n",
      "Saved page 23 as SK-Imgs/page_23.png\n",
      "Saved page 24 as SK-Imgs/page_24.png\n",
      "Saved page 25 as SK-Imgs/page_25.png\n",
      "Saved page 26 as SK-Imgs/page_26.png\n",
      "Saved page 27 as SK-Imgs/page_27.png\n",
      "Saved page 28 as SK-Imgs/page_28.png\n",
      "Saved page 29 as SK-Imgs/page_29.png\n",
      "Saved page 30 as SK-Imgs/page_30.png\n",
      "Saved page 31 as SK-Imgs/page_31.png\n",
      "Saved page 32 as SK-Imgs/page_32.png\n",
      "Saved page 33 as SK-Imgs/page_33.png\n",
      "Saved page 34 as SK-Imgs/page_34.png\n",
      "Saved page 35 as SK-Imgs/page_35.png\n",
      "Saved page 36 as SK-Imgs/page_36.png\n",
      "Saved page 37 as SK-Imgs/page_37.png\n",
      "Saved page 38 as SK-Imgs/page_38.png\n",
      "Saved page 39 as SK-Imgs/page_39.png\n",
      "Saved page 40 as SK-Imgs/page_40.png\n",
      "Saved page 41 as SK-Imgs/page_41.png\n",
      "Saved page 42 as SK-Imgs/page_42.png\n",
      "Saved page 43 as SK-Imgs/page_43.png\n",
      "Saved page 44 as SK-Imgs/page_44.png\n",
      "Saved page 45 as SK-Imgs/page_45.png\n",
      "Conversion completed!\n"
     ]
    }
   ],
   "source": [
    "import fitz  # PyMuPDF\n",
    "import os\n",
    "\n",
    "def pdf_to_images(pdf_path, output_folder, dpi=300):\n",
    "    \"\"\"\n",
    "    Converts a PDF file into a set of images, one per page.\n",
    "    \n",
    "    :param pdf_path: Path to the PDF file.\n",
    "    :param output_folder: Folder to save the images.\n",
    "    :param dpi: Resolution for the output images.\n",
    "    \"\"\"\n",
    "    # Create the output folder if it doesn't exist\n",
    "    if not os.path.exists(output_folder):\n",
    "        os.makedirs(output_folder)\n",
    "    \n",
    "    # Open the PDF file\n",
    "    pdf_document = fitz.open(pdf_path)\n",
    "    for page_num in range(len(pdf_document)):\n",
    "        # Select the page\n",
    "        page = pdf_document[page_num]\n",
    "        \n",
    "        # Render the page to a pixmap\n",
    "        pix = page.get_pixmap(dpi=dpi)\n",
    "        \n",
    "        # Create the output image path\n",
    "        image_path = os.path.join(output_folder, f\"page_{page_num + 1}.png\")\n",
    "        \n",
    "        # Save the pixmap as an image\n",
    "        pix.save(image_path)\n",
    "        print(f\"Saved page {page_num + 1} as {image_path}\")\n",
    "    \n",
    "    pdf_document.close()\n",
    "    print(\"Conversion completed!\")\n",
    "\n",
    "# Example usage\n",
    "pdf_to_images(\"SemanticKernelTraining.pdf\", \"SK-Imgs\")\n"
   ]
  },
  {
   "cell_type": "code",
   "execution_count": null,
   "metadata": {},
   "outputs": [],
   "source": []
  }
 ],
 "metadata": {
  "kernelspec": {
   "display_name": "booksage",
   "language": "python",
   "name": "python3"
  },
  "language_info": {
   "codemirror_mode": {
    "name": "ipython",
    "version": 3
   },
   "file_extension": ".py",
   "mimetype": "text/x-python",
   "name": "python",
   "nbconvert_exporter": "python",
   "pygments_lexer": "ipython3",
   "version": "3.11.5"
  }
 },
 "nbformat": 4,
 "nbformat_minor": 2
}
